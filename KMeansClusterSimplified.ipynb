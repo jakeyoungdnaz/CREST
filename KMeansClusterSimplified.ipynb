{
 "cells": [
  {
   "cell_type": "markdown",
   "metadata": {},
   "source": [
    "# **Welcome To Machine Learning Algorithms** \n",
    "---\n",
    "\n"
   ]
  },
  {
   "cell_type": "markdown",
   "metadata": {},
   "source": [
    "## *K Means Clustering*\n"
   ]
  },
  {
   "cell_type": "markdown",
   "metadata": {},
   "source": [
    "First we will import the necessary libraries into the file. "
   ]
  },
  {
   "cell_type": "code",
   "execution_count": null,
   "metadata": {},
   "outputs": [],
   "source": [
    "import pandas as pd\n",
    "from sklearn.preprocessing import MinMaxScaler\n",
    "from sklearn.cluster import KMeans\n",
    "import numpy as np\n",
    "import matplotlib.pyplot as plt\n",
    "import math"
   ]
  },
  {
   "cell_type": "markdown",
   "metadata": {},
   "source": [
    "Next, we need to read the data we want to analyze. The Pandas library has a function to read a csv file which is an easy way to read a large dataset into memory. If the csv file is saved to the same directory as the script we only need to use the name and extension of the file and makes reading the file simple."
   ]
  },
  {
   "cell_type": "code",
   "execution_count": null,
   "metadata": {},
   "outputs": [],
   "source": [
    "# Read the Excel file\n",
    "file_path = 'atendees.csv'  # Update this with the actual path of the Excel file you want to use.\n",
    "data = pd.read_csv(file_path)\n",
    "\n",
    "# previews data from csv\n",
    "print(data.head())"
   ]
  },
  {
   "cell_type": "markdown",
   "metadata": {},
   "source": [
    "This section of the code is preparing the data in a format that can be understood by the machine learing algorithm. The k means clustering algorithm only accepts numeric values and the data must use the same scale to avoid a bias toward values with a higer magnitude. "
   ]
  },
  {
   "cell_type": "code",
   "execution_count": null,
   "metadata": {},
   "outputs": [],
   "source": [
    "# Encode categorical features\n",
    "data['department_cat'] = data['department'].astype('category').cat.codes\n",
    "data['role_cat'] = data['role'].astype('category').cat.codes\n",
    "data['exp_clinical'] = data['exp clinical'].astype('category').cat.codes\n",
    "data['exp_tech'] = data['exp tech'].astype('category').cat.codes\n",
    "data['depth_clinical'] = data['depth clinical'].astype('category').cat.codes\n",
    "data['depth_tech'] = data['depth tech'].astype('category').cat.codes\n",
    "\n",
    "# Prepare features for clustering\n",
    "features = data[['department_cat', 'role_cat', 'exp_clinical', 'exp_tech', 'depth_clinical', 'depth_tech']]\n",
    "\n",
    "\n",
    "# Prints a preview of the results of the preparation\n",
    "print(features.head())"
   ]
  },
  {
   "cell_type": "markdown",
   "metadata": {},
   "source": [
    "Now, we need to determine K or the number of clusters we want to create. normally we would use a technique such as the elbow method (see Addendum) to decide how many groups the data naturally forms but for this exercise we are going to divide the number of participants into roughly even groups."
   ]
  },
  {
   "cell_type": "code",
   "execution_count": null,
   "metadata": {},
   "outputs": [],
   "source": [
    "# Determine the number of groups needed (with 6-8 people per group)\n",
    "total_people = len(data)\n",
    "group_size = 8\n",
    "k = math.ceil(total_people / group_size)\n",
    "\n",
    "# shows the value of the variables we created\n",
    "print(total_people)\n",
    "print(k)"
   ]
  },
  {
   "cell_type": "markdown",
   "metadata": {},
   "source": [
    "This section actually applies the k means algorithm to the prepared data. "
   ]
  },
  {
   "cell_type": "code",
   "execution_count": null,
   "metadata": {},
   "outputs": [],
   "source": [
    "# Apply K-Means\n",
    "kmeans = KMeans(n_clusters=k, random_state=42)\n",
    "data['cluster'] = kmeans.fit_predict(features)\n",
    "\n",
    "# previews the results of the analysis\n",
    "print(data.head())"
   ]
  },
  {
   "cell_type": "markdown",
   "metadata": {},
   "source": [
    "The following code visualizes the results of the analysis to show how the individuals within them compare. There are many ways to visualize the data so we won't go into detail here but what is important is the ability to see how the groups compare. \n",
    "\n",
    "- How do the individuals in the clusters compare? Do you think they were matched approriately? How do you think the variables we chose affected the analysis?"
   ]
  },
  {
   "cell_type": "code",
   "execution_count": null,
   "metadata": {},
   "outputs": [],
   "source": [
    "# Prepare data for radar chart\n",
    "scaler = MinMaxScaler()\n",
    "scaled_features = pd.DataFrame(scaler.fit_transform(features), columns=features.columns)\n",
    "\n",
    "# Add cluster and name back to the scaled data\n",
    "scaled_features['cluster'] = data['cluster']\n",
    "scaled_features['name'] = data['name']\n",
    "\n",
    "# Function to create radar chart comparing individuals within each cluster\n",
    "def create_radar_chart_for_clusters(scaled_data, num_clusters):\n",
    "    categories = list(scaled_data.columns[:-2])  # Exclude 'cluster' and 'name'\n",
    "    num_vars = len(categories)\n",
    "\n",
    "    angles = np.linspace(0, 2 * np.pi, num_vars, endpoint=False).tolist()\n",
    "    angles += angles[:1]\n",
    "\n",
    "    for i in range(num_clusters):\n",
    "        cluster_data = scaled_data[scaled_data['cluster'] == i]\n",
    "        fig, ax = plt.subplots(figsize=(6, 6), subplot_kw=dict(polar=True))\n",
    "\n",
    "        for _, row in cluster_data.iterrows():\n",
    "            values = row[categories].tolist()\n",
    "            values += values[:1]\n",
    "            ax.plot(angles, values, label=row['name'])\n",
    "            ax.fill(angles, values, alpha=0.25)\n",
    "\n",
    "        ax.set_yticklabels([])\n",
    "        ax.set_xticks(angles[:-1])\n",
    "        ax.set_xticklabels(categories)\n",
    "\n",
    "        ax.set_title(f'Cluster {i} - Individual Comparisons', size=15, color='blue', y=1.1)\n",
    "        ax.legend(loc='upper right', bbox_to_anchor=(0.1, 0.1))\n",
    "\n",
    "        plt.show()\n",
    "\n",
    "# Plot radar charts for each cluster comparing individuals within that cluster\n",
    "create_radar_chart_for_clusters(scaled_features, k)"
   ]
  },
  {
   "cell_type": "markdown",
   "metadata": {},
   "source": [
    "Congratulations! You just used the k means clusters machine learning algrithm to group data with multiple variables into clusters based on the similarity of their attributes. This is the end of an analysis using K Means Clustering but for this exercise we are going to evenly divide the clusters into groups to make groups with balanced expertise.\n",
    "\n",
    "--- "
   ]
  },
  {
   "cell_type": "markdown",
   "metadata": {},
   "source": [
    "This step is creating empty buckets (arrays) and then looping through the clusters and evenly distribuing each cluster into the buckets. we essentially created the most similar groups we can with the clusters and now we will evenly split them into balanced groups and print them to the console."
   ]
  },
  {
   "cell_type": "code",
   "execution_count": null,
   "metadata": {},
   "outputs": [],
   "source": [
    "# Initialize lists to hold the balanced groups\n",
    "groups = [[] for _ in range(k)]\n",
    "\n",
    "# Distribute individuals to ensure balanced groups\n",
    "for i, person in data.iterrows():\n",
    "    smallest_group = min(groups, key=len)\n",
    "    smallest_group.append(person)\n",
    "\n",
    "# Assign group numbers to the data\n",
    "data['balanced_group'] = None\n",
    "for group_number, group in enumerate(groups):\n",
    "    for person in group:\n",
    "        data.loc[person.name, 'balanced_group'] = group_number\n",
    "\n",
    "# this orders the data frame by the groups for easy analysis\n",
    "data = data.sort_values(by=['balanced_group'])\n",
    "\n",
    "# Print the resulting data\n",
    "print(data[['name','balanced_group']])"
   ]
  },
  {
   "cell_type": "markdown",
   "metadata": {},
   "source": [
    "---Addendum:\n",
    "*For simplcity we are manually setting the number of clusters we want to see, but in a situation where you do not know how many clusters to use you would use a technique such as the Elbow Method to determine how many clusters ideally represent the dataset. *\n",
    "\n",
    "- how many natural groups do you think this data set forms? what should we have used for K?\n"
   ]
  },
  {
   "cell_type": "code",
   "execution_count": null,
   "metadata": {},
   "outputs": [],
   "source": [
    "# Elbow Method to find the optimal number of clusters\n",
    "inertia = []\n",
    "K = range(1, 11)  # Test cluster numbers from 1 to 10\n",
    "\n",
    "for k in K:\n",
    "    kmeans = KMeans(n_clusters=k, random_state=42)\n",
    "    kmeans.fit(features)\n",
    "    inertia.append(kmeans.inertia_)\n",
    "\n",
    "# Plot the Elbow Method result\n",
    "plt.figure(figsize=(10, 6))\n",
    "plt.plot(K, inertia, 'bo-')\n",
    "plt.xlabel('Number of clusters (k)')\n",
    "plt.ylabel('Inertia')\n",
    "plt.title('Elbow Method For Optimal k')\n",
    "plt.grid(True)\n",
    "plt.show()"
   ]
  },
  {
   "cell_type": "markdown",
   "metadata": {},
   "source": [
    "### Further reading:\n",
    "- https://en.wikipedia.org/wiki/K-means_clustering\n",
    "- https://stanford.edu/~cpiech/cs221/handouts/kmeans.html\n",
    "- https://www.geeksforgeeks.org/k-means-clustering-introduction/\n",
    "- http://varianceexplained.org/r/kmeans-free-lunch/\n",
    "- https://en.wikipedia.org/wiki/Elbow_method_(clustering)\n",
    "- https://medium.com/@evgen.ryzhkov/5-stages-of-data-preprocessing-for-k-means-clustering-b755426f9932\n",
    "- https://medium.com/analytics-vidhya/why-is-scaling-required-in-knn-and-k-means-8129e4d88ed7#:~:text=We%20can%20clearly%20see%20that,like%20KNN%20or%20K%2DMeans.\n",
    "- https://scikit-learn.org/stable/modules/generated/sklearn.cluster.KMeans.html\n",
    "- https://www.baeldung.com/cs/k-means-flaws-improvements\n",
    "- https://datarundown.com/k-means-clustering-pros-cons/\n"
   ]
  }
 ],
 "metadata": {
  "kernelspec": {
   "display_name": "Python 3",
   "language": "python",
   "name": "python3"
  },
  "language_info": {
   "codemirror_mode": {
    "name": "ipython",
    "version": 3
   },
   "file_extension": ".py",
   "mimetype": "text/x-python",
   "name": "python",
   "nbconvert_exporter": "python",
   "pygments_lexer": "ipython3",
   "version": "3.12.5"
  }
 },
 "nbformat": 4,
 "nbformat_minor": 2
}
